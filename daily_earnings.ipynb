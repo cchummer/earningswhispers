{
  "nbformat": 4,
  "nbformat_minor": 0,
  "metadata": {
    "colab": {
      "provenance": [],
      "authorship_tag": "ABX9TyP6lmOlr4LRU57A9XMUtvnu"
    },
    "kernelspec": {
      "name": "python3",
      "display_name": "Python 3"
    },
    "language_info": {
      "name": "python"
    }
  },
  "cells": [
    {
      "cell_type": "markdown",
      "source": [
        "# Attempting to scrape info on upcoming earnings from earningswhispers.com\n",
        "\n",
        "Endpoint of concern here is https://www.earningswhispers.com/calendar, to which a GET request is sent. Information for one day's worth of earnings is given per one request/response. There are a few parameters available to this query:\n",
        "\n",
        "\n",
        "```\n",
        "\"sb\" - Sort by. Four options:\n",
        "  \"p\" - Popularity\n",
        "  \"t\" - Time\n",
        "  \"c\" - Name\n",
        "  \"s\" - Sales\n",
        "\"d\" - Offset in days (including weekends) from today of the day to target. I.e, 0 to target today. NOTE: EW determines \"today\" by EST\n",
        "\"t\" - Seems to be a switch for the \"All Earnings\" vs \"Earnings Whispers\" option, generally will set to \"all\" \n",
        "\"v\" - View. Either \"s\" or \"t\":\n",
        "  \"s\" - Standard view\n",
        "  \"t\" - List view. We default to list view in requests, doesn't make a difference in the information returned \n",
        "```\n",
        "\n",
        "The results to the given day are listed in an HTML ```ul``` tag of id=\"epscalendar\". Only a certain number (TODO: Determine cutoff) of results are returned here. Manually browsing, the \"Show More\" button invokes a javascript function which sends another request to [.../morecalendar](https://www.earningswhispers.com/morecalendar?sb=p&d=0&t=all&v=t) and appends the results to the existing page. We will simply manually make 2 GET requests. \n",
        "\n",
        "I have yet to determine exactly what the maximum possible value of \"d\" is. At the time of writing, 11/07/2022, 87 is the highest value being accepted. When browsing the site normally, the current month and next month are visible and able to be clicked through but it seems that closer to three months can be seen via this parameter. More testing to do.\n",
        "\n",
        "\n"
      ],
      "metadata": {
        "id": "dLKnccJ7kTNc"
      }
    },
    {
      "cell_type": "markdown",
      "source": [
        "# What info is returned\n",
        "As mentioned, results are listed in an HTML `ul` element. This object contains one list item, `li` tag, per result. Note that the first list item present will be of id=\"calhead\" and acts as header/column labels. \n",
        "\n",
        "Result list (`ul`) definition and first item (headers):"
      ],
      "metadata": {
        "id": "adsoz22yzR6M"
      }
    },
    {
      "cell_type": "markdown",
      "source": [
        "https://imgur.com/a/ON1wBMZ"
      ],
      "metadata": {
        "id": "xyk9atMv5bmf"
      }
    },
    {
      "cell_type": "markdown",
      "source": [
        "Subsequent list items, one result per reporting company, contain information regarding the earnings report and respective estimates. There are two possible classes that a result can fall into: already reported, or yet to report. The structure of list items for these two classes of results vary slightly. \n",
        "The structure of an `li` for a ticker which has not yet reported as of time of query:"
      ],
      "metadata": {
        "id": "yjvt-mMS0qnd"
      }
    },
    {
      "cell_type": "markdown",
      "source": [
        "https://imgur.com/a/dHuZPp4"
      ],
      "metadata": {
        "id": "dA6-wgLe5nr8"
      }
    },
    {
      "cell_type": "markdown",
      "source": [
        "The structure of an `li` for a ticker which has already reported as of time of query:\n"
      ],
      "metadata": {
        "id": "eugZwPKE2AL9"
      }
    },
    {
      "cell_type": "markdown",
      "source": [
        "https://imgur.com/a/Qyp1OGl"
      ],
      "metadata": {
        "id": "VHAf7m7c5vNN"
      }
    },
    {
      "cell_type": "markdown",
      "source": [
        "Note the additional fields in results for companies which have already filed. Those which have not yet filed contain a div object of class \"time\", while those which have filed contain various div objects with classes containing \"act\" and \"actual\". \n",
        "The two possible list item structures will be handled appropriately, and the existence of a \"time\" div will be the deciding factor on how to treat any given list item. "
      ],
      "metadata": {
        "id": "ljyGaGn94s1y"
      }
    },
    {
      "cell_type": "markdown",
      "source": [
        "# Yet-to-report companies\n",
        "The fields of interest from a list item of a company that has not yet reported (determined by existence of a \"time\" div):\n",
        "\n",
        "\n",
        "```\n",
        "div class=\"company\"...> Company name </...\n",
        "div class=\"ticker\"...> Company ticker </...\n",
        "div class=\"time\"...> Time of earnings release </...\n",
        "div class=\"estimate\"...> EPS estimate </...\n",
        "div class=\"revest\"...> Revenue estimate </...\n",
        "div class=\"revgrowthprint\"...> Expected revenue growth % </... # TODO: Better understanding of rev and eps growth metrics. This field is not present in morecalendar but the information is available. More JS learning to do\n",
        "```\n",
        "\n",
        "These fields exist within a `div` tag within the `li` tag per company. Some information on earnings conference call time and how to access seem to be given in a sibling `div` grouping \"options\" to take relevent to the company (add to watchlist, etc, including info on conference call). May want to scrape this information too after some more investigation into structure\n"
      ],
      "metadata": {
        "id": "d0sveSJG91Qb"
      }
    },
    {
      "cell_type": "markdown",
      "source": [
        "# Already-reported companies\n",
        "In addition to company and ticker as in yet-to-report companies, those which have already reported contain the following fields interest in the main `div` of their list items:\n",
        "\n",
        "\n",
        "```\n",
        "div class=\"actestimate\"...> EPS estimate </...\n",
        "div class=\"actrevest\"...> Revenue estimate </...\n",
        "div class=\"actual red/green\"...> Actual EPS. \"red\" on miss, \"green\" on beat </...\n",
        "div class=\"revactual red/green\"...> Actual revenue (color according to miss/beat) </...\n",
        "div class=\"revsurpfull red/green\"...> % by which revenue estimate was missed/beat </...\n",
        "div class=\"revgrowthfull red/green\"...> %, unsure. Seems to represent either change in revenue or revenue estimates from last report. TODO: More poking </...\n",
        "div class=\"epssurpfull red/green\"...> % by which EPS estimate was missed/beat </...\n",
        "div class=\"epsgrowthfull red/green\"...> %, unsure. Seems to represent either change in EPS or EPS estimates from last report. TODO: More poking </...\n",
        "div class=\"guidance pos/neg/neut> *OPTIONAL* If available, indicative of forward guidance sentiment given by reporting company </...\n",
        "```\n",
        "\n",
        "\n"
      ],
      "metadata": {
        "id": "y0NgQp58APtS"
      }
    },
    {
      "cell_type": "markdown",
      "source": [
        "# Consensus estimates vs. \"whispers\"\n",
        "EarningsWhispers offers a proprietary \"whisper\" which they argue is more meaningful than the consensus estimate. This whisper value is not given directly on the calendar page but instead is in [.../stocks/ticker](https://www.earningswhispers.com/epsdetails/vrm) or [.../epsdetails/ticker](https://www.earningswhispers.com/stocks/vrm) depending on whether the company has reported at the time of the request or not. We can rely on the existence of a \"time\" field to mean the result of the report is not yet available and we should reference .../stocks/... If \"time\" does not exist, reference .../epsdetails/... as the report's result is available.\n",
        "\n",
        "These two endpoints are useful in their own right for quickly obtaining results of the last earnings report of any company via ticker. \n",
        "TODO: Write a few more methods to pull relevent information from these pages "
      ],
      "metadata": {
        "id": "EFYeaoAquttE"
      }
    },
    {
      "cell_type": "code",
      "execution_count": null,
      "metadata": {
        "id": "rP1yL_7wiiiA"
      },
      "outputs": [],
      "source": [
        "import requests\n",
        "import re\n",
        "from datetime import date\n",
        "from bs4 import BeautifulSoup"
      ]
    },
    {
      "cell_type": "code",
      "source": [
        "# Quick method to convert a target date into an offset to feed parameter \"d\" in request\n",
        "def date_to_offset(target_date):\n",
        "  target_offset = 0\n",
        "\n",
        "  if not isinstance(target_date, date):\n",
        "    print(\"Error: a datetime.date object must be passed to date_to_offset\")\n",
        "    print(\"Returning an offset of 0\")\n",
        "    return target_offset\n",
        "\n",
        "  # Grab today's date\n",
        "  todays_date = date.today()\n",
        "\n",
        "  # Am yet to discover (if at all possible) how to send a request for a past date to earningswhispers.\n",
        "  # Thus for now, make sure the target date is indeed not before today\n",
        "  if todays_date > target_date:\n",
        "    print(\"Cannot retrieve EarningsWhispers data for past dates. Returning offset of 0 days\\nTodays date: {}\\nEntered target date: {}\".format(todays_date, target_date))\n",
        "    return target_offset\n",
        "\n",
        "  # Subtract the date objects\n",
        "  offset_timedelta = target_date - todays_date\n",
        "  target_offset = offset_timedelta.days\n",
        "\n",
        "  return target_offset"
      ],
      "metadata": {
        "id": "sLmwlk5Vs18j"
      },
      "execution_count": null,
      "outputs": []
    },
    {
      "cell_type": "code",
      "source": [
        "\"\"\"\n",
        "Parse a list item determined to be a \"yet-to-report\" company\n",
        "Returns a dict of structure:\n",
        "{\n",
        "  \"b_o_a\" : \"b\" or \"a\", depending on whether company reports before market open or after market close. Blank string if unable to tell\n",
        "  \"company\" : \"Company name\",\n",
        "  \"ticker\" : \"Ticker\",\n",
        "  \"time\" : \"Reporting time\",\n",
        "  \"eps_est\" : \"EPS estimate\",\n",
        "  \"rev_est\" : \"Revenue estimate\",\n",
        "  TODO: EPS and rev growth estimates, earnings call info\n",
        "}\n",
        "\"\"\"\n",
        "def parse_yet_to_report(list_item):\n",
        "  ret_dict = {} # To be returned\n",
        "  \n",
        "  # Step into the main div \n",
        "  main_div = list_item.find(\"div\", { \"id\" : re.compile(\"^T-\")})\n",
        "  if not main_div:\n",
        "    print(\"parse_yet_to_report could not find a <div> of id 'T-' in list_item: {}\".format(list_item))\n",
        "    return ret_dict\n",
        "\n",
        "  # Check if reporting before open or after close. li class=\"cor(s) bmo/amc showconf nwh\"..., with bmo/amc meaning before open or after close\n",
        "  # Split class into words, look for bmo or amc\n",
        "  # HTML 4/5 define class as multi value attribute so bs4 returns a list when we get it\n",
        "  ret_dict[\"b_o_a\"] = \"\"\n",
        "  for class_val in list_item.get(\"class\"):\n",
        "      if \"bmo\" in class_val.lower().split():\n",
        "          ret_dict[\"b_o_a\"] = \"b\"\n",
        "      elif \"amc\" in class_val.lower().split():\n",
        "          ret_dict[\"b_o_a\"] = \"a\"\n",
        "      else:\n",
        "          pass\n",
        "\n",
        "  # Grab our other fields of interest\n",
        "  ret_dict[\"company\"] = main_div.find(\"div\", { \"class\" : \"company\" }).text.strip()\n",
        "  ret_dict[\"ticker\"] = main_div.find(\"div\", { \"class\" : \"ticker\" }).text.strip()\n",
        "  ret_dict[\"time\"] = main_div.find(\"div\", { \"class\" : \"time\" }).text.strip()\n",
        "  ret_dict[\"eps_est\"] = main_div.find(\"div\", { \"class\" : \"estimate\" }).text.strip()\n",
        "  ret_dict[\"rev_est\"] = main_div.find(\"div\", { \"class\" : \"revest\" }).text.strip()\n",
        "\n",
        "  # TODO: EPS and revenue growth estimates\n",
        "\n",
        "  # TODO: Earnings conference call info\n",
        "\n",
        "  return ret_dict"
      ],
      "metadata": {
        "id": "9NSP8CfeFdub"
      },
      "execution_count": null,
      "outputs": []
    },
    {
      "cell_type": "code",
      "source": [
        "\"\"\"\n",
        "Parse a list item determined to be an already-reported company\n",
        "Returns a dict of structure:\n",
        "{\n",
        "  \"b_o_a\" : \"b\" or \"a\", depending on whether company reports before market open or after market close. Blank string if unable to tell\n",
        "  \"company\" : \"Company name\",\n",
        "  \"ticker\" : \"Ticker\",\n",
        "  \"eps_est\" : \"EPS estimate\",\n",
        "  \"eps_act\" : \"Actual EPS\",\n",
        "  \"eps_surp\" : \"Percentage of EPS miss/beat\",\n",
        "  \"rev_est\" : \"Revenue estimate\",\n",
        "  \"rev_act\" : \"Actual revenue\",\n",
        "  \"rev_surp\" : \"Percentage of revenue miss/beat\",\n",
        "  \"guidance\" : \"pos/neg/neut\"\n",
        "  TODO: EPS and rev growth fields, earnings call info\n",
        "}\n",
        "\"\"\"\n",
        "def parse_already_reported(list_item):\n",
        "  ret_dict = {} # To be returned\n",
        "\n",
        "  # Step into the main div>\n",
        "  main_div = list_item.find(\"div\", { \"id\" : re.compile(\"^T-\")})\n",
        "  if not main_div:\n",
        "    print(\"parse_already_reported could not find a <div> of id 'T-' in list_item: {}\".format(list_item))\n",
        "    return ret_dict\n",
        "\n",
        "  # Check if reporting before open or after close. li class=\"cor(s) bmo/amc showconf nwh\"..., with bmo/amc meaning before open or after close\n",
        "  # Split class into words, look for bmo or amc\n",
        "  # HTML 4/5 define class as multi value attribute so bs4 returns a list when we get it\n",
        "  ret_dict[\"b_o_a\"] = \"\"\n",
        "  for class_val in list_item.get(\"class\"):\n",
        "      if \"bmo\" in class_val.lower().split():\n",
        "          ret_dict[\"b_o_a\"] = \"b\"\n",
        "      elif \"amc\" in class_val.lower().split():\n",
        "          ret_dict[\"b_o_a\"] = \"a\"\n",
        "      else:\n",
        "          pass\n",
        "\n",
        "  # Grab our other fields of interest\n",
        "  ret_dict[\"company\"] = main_div.find(\"div\", { \"class\" : \"company\" }).text.strip()\n",
        "  ret_dict[\"ticker\"] = main_div.find(\"div\", { \"class\" : \"ticker\" }).text.strip()\n",
        "  ret_dict[\"eps_est\"] = main_div.find(\"div\", { \"class\" : \"actestimate\" }).text.strip()\n",
        "  ret_dict[\"rev_est\"] = main_div.find(\"div\", { \"class\" : \"actrevest\" }).text.strip()\n",
        "  ret_dict[\"eps_act\"] = main_div.find(\"div\", { \"class\" : re.compile(\"^actual\") }).text.strip()\n",
        "  ret_dict[\"rev_act\"] = main_div.find(\"div\", { \"class\" : re.compile(\"^revactual\") }).text.strip()\n",
        "  ret_dict[\"rev_surp\"] = main_div.find(\"div\", { \"class\" : re.compile(\"^revsurpfull\") }).text.strip()\n",
        "  #ret_dict[\"rev_growth\"] = main_div.find(\"div\", { \"class\" : re.compile(\"^revgrowthfull\") }).text.strip()\n",
        "  ret_dict[\"eps_surp\"] = main_div.find(\"div\", { \"class\" : re.compile(\"^epssurpfull\") }).text.strip()\n",
        "  #ret_dict[\"eps_growth\"] = main_div.find(\"div\", { \"class\" : re.compile(\"^epsgrowthfull\") }).text.strip()\n",
        "\n",
        "  # Remember class is multi-value attribute, and the spaces between guidance and pos/net/neut cause the two words to be returned as two values. Hence grab the last item in the list\n",
        "  guidance_tag = main_div.find(\"div\", attrs = { \"class\" : re.compile(\"guidance\") })\n",
        "  if guidance_tag:\n",
        "    ret_dict[\"guidance\"] = guidance_tag.get(\"class\")[-1]\n",
        "\n",
        "  # TODO: Earnings conference call info\n",
        "\n",
        "  return ret_dict"
      ],
      "metadata": {
        "id": "GuiVtGaom_vx"
      },
      "execution_count": null,
      "outputs": []
    },
    {
      "cell_type": "code",
      "source": [
        "# Queries earningswhispers.com for a given date, with a sort type of \"p\", \"t\", \"c\", or \"s\" as outlined in text above\n",
        "# Returns a list of dictionary objects, one per reporting company \n",
        "def list_earnings_on_date(target_date, sort_type):\n",
        "  earnings_master_list = []\n",
        "\n",
        "  # Check arguments are sane\n",
        "  if not isinstance(target_date, date):\n",
        "    print(\"Error: a datetime.date object must be passed to list_earnings_on_date\")\n",
        "    return earnings_master_list\n",
        "\n",
        "  if sort_type not in ['p', 't', 'c', 's']:\n",
        "    print(\"Error: invalid sort type passed to list_earnings_on_date: {}\\nValid options are: p,t,c,s\".format(sort_type))\n",
        "    return earnings_master_list\n",
        "  \n",
        "  # Prepare for request\n",
        "  ew_base = \"https://www.earningswhispers.com/\"\n",
        "  ew_cal= \"calendar\"\n",
        "  ew_morecal = \"morecalendar\"\n",
        "  params_dict = {\n",
        "      \"sb\" : sort_type,\n",
        "      \"d\" : date_to_offset(target_date),\n",
        "      \"t\" : \"all\",\n",
        "      \"v\" : \"t\"\n",
        "  }\n",
        "\n",
        "  # Send it\n",
        "  response = requests.get(url = ew_base + ew_cal, params = params_dict)\n",
        "  response.raise_for_status()\n",
        "\n",
        "  # Find the EPS calendar ul tag. If there are multiple, loop through them (have not yet encountered this)\n",
        "  html_cont = response.content\n",
        "  html_soup = BeautifulSoup(html_cont, \"lxml\")\n",
        "\n",
        "  for res_list in html_soup.find_all(\"ul\", { \"id\" : \"epscalendar\"}):\n",
        "\n",
        "    # Loop through list items li tags with a class attribute set (skips first entry AKA column labels)\n",
        "    for list_item in res_list.find_all(\"li\", { \"class\" : True }):\n",
        "      reporter_dict = {} # Will hold information on the current result/company and be appended to the master list\n",
        "\n",
        "      # Multiple div elements exist here. The id attribute of the main one is \"T-(ticker)\" and the other (which contains info on earnings call as mentioned above) \"O-(ticker)\"\n",
        "      # For now, we are targetting the fields within the \"T-\" div\n",
        "      main_div = list_item.find(\"div\", { \"id\" : re.compile(\"^T-\")})\n",
        "      if not main_div:\n",
        "        print(\"Unexpected structure of list item in epscalendar. List item: {}\".format(list_item))\n",
        "        continue\n",
        "\n",
        "      # Determine if yet to report or already reported. Handle accordingly\n",
        "      found_time = main_div.find(\"div\", { \"class\" : \"time\"})\n",
        "      if found_time:\n",
        "        reporter_dict = parse_yet_to_report(list_item)\n",
        "      else:\n",
        "        reporter_dict = parse_already_reported(list_item)\n",
        "\n",
        "      # Append to master list\n",
        "      earnings_master_list.append(reporter_dict)\n",
        "\n",
        "  #\n",
        "  # Now check morecalendar\n",
        "  #\n",
        "  response = requests.get(url = ew_base + ew_morecal, params = params_dict)\n",
        "  if response.status_code != 200:\n",
        "    return earnings_master_list\n",
        "\n",
        "  # Same process but look for ul tag with id \"morecalendar\" instead of \"epscalendar\". List is in the same format\n",
        "  html_cont = response.content\n",
        "  html_soup = BeautifulSoup(html_cont, \"lxml\")\n",
        "\n",
        "  for res_list in html_soup.find_all(\"ul\", { \"id\" : \"morecalendar\"}):\n",
        "\n",
        "    # Loop through list items li tags with a class attribute set (skips first entry AKA column labels)\n",
        "    for list_item in res_list.find_all(\"li\", { \"class\" : True }):\n",
        "      reporter_dict = {} # Will hold information on the current result/company and be appended to the master list\n",
        "\n",
        "      # Multiple <div> elements exist here. The id attribute of the main one is \"T-(ticker)\" and the other (which contains info on earnings call as mentioned above) \"O-(ticker)\"\n",
        "      # For now, we are targetting the fields within the \"T-\" div\n",
        "      main_div = list_item.find(\"div\", { \"id\" : re.compile(\"^T-\")})\n",
        "\n",
        "      # Determine if yet to report or already reported. Handle accordingly\n",
        "      found_time = main_div.find(\"div\", { \"class\" : \"time\"})\n",
        "      if found_time:\n",
        "        reporter_dict = parse_yet_to_report(list_item)\n",
        "      else:\n",
        "        reporter_dict = parse_already_reported(list_item)\n",
        "\n",
        "      # Append to master list\n",
        "      earnings_master_list.append(reporter_dict)\n",
        "\n",
        "  return earnings_master_list"
      ],
      "metadata": {
        "id": "-CjZESUdxjj6"
      },
      "execution_count": null,
      "outputs": []
    },
    {
      "cell_type": "code",
      "source": [
        "target_date = date.today()\n",
        "print(list_earnings_on_date(target_date, \"p\"))"
      ],
      "metadata": {
        "id": "38PY5eFvKkWG"
      },
      "execution_count": null,
      "outputs": []
    }
  ]
}